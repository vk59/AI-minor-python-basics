{
  "cells": [
    {
      "cell_type": "markdown",
      "metadata": {
        "id": "view-in-github",
        "colab_type": "text"
      },
      "source": [
        "<a href=\"https://colab.research.google.com/github/vk59/AI-minor-python-basics/blob/main/vk_59_04_lists_exercise.ipynb\" target=\"_parent\"><img src=\"https://colab.research.google.com/assets/colab-badge.svg\" alt=\"Open In Colab\"/></a>"
      ]
    },
    {
      "cell_type": "markdown",
      "metadata": {
        "id": "b8sZ4jGWl0iK"
      },
      "source": [
        "# 1. Fill the missing pieces\n",
        "Fill the `____` parts of the code below."
      ]
    },
    {
      "cell_type": "code",
      "execution_count": 1,
      "metadata": {
        "id": "hIMkWAojl0iM"
      },
      "outputs": [],
      "source": [
        "# Let's create an empty list\n",
        "my_list = []\n",
        "\n",
        "# Let's add some values\n",
        "my_list.append(\"Python\")\n",
        "my_list.append(\"is ok\")\n",
        "my_list.append(\"sometimes\")\n",
        "\n",
        "# Let's remove 'sometimes'\n",
        "my_list.remove(\"sometimes\")\n",
        "\n",
        "# Let's change the second item\n",
        "my_list[1] = \"is neat\""
      ]
    },
    {
      "cell_type": "code",
      "execution_count": 2,
      "metadata": {
        "editable": false,
        "id": "3Nt6gV_Rl0iN"
      },
      "outputs": [],
      "source": [
        "# Let's verify that it's correct\n",
        "assert my_list == [\"Python\", \"is neat\"]"
      ]
    },
    {
      "cell_type": "markdown",
      "metadata": {
        "id": "VjfvIoQbl0iO"
      },
      "source": [
        "# 2. Create a new list without modifiying the original one\n"
      ]
    },
    {
      "cell_type": "code",
      "execution_count": 4,
      "metadata": {
        "editable": false,
        "id": "8GHBHsasl0iO"
      },
      "outputs": [],
      "source": [
        "original = [\"I\", \"am\", \"learning\", \"hacking\", \"in\"]"
      ]
    },
    {
      "cell_type": "code",
      "execution_count": 17,
      "metadata": {
        "id": "9ilD00pal0iO",
        "colab": {
          "base_uri": "https://localhost:8080/"
        },
        "outputId": "735bb572-9fe7-49fc-82b4-f7bf7b7a1710"
      },
      "outputs": [
        {
          "output_type": "execute_result",
          "data": {
            "text/plain": [
              "['I', 'am', 'learning', 'lists', 'in', 'Python']"
            ]
          },
          "metadata": {},
          "execution_count": 17
        }
      ],
      "source": [
        "# Your implementation here\n",
        "modified = original.copy()\n",
        "modified.insert(3, \"lists\")\n",
        "modified.insert(6, \"Python\")\n",
        "modified.remove(\"hacking\")\n",
        "modified"
      ]
    },
    {
      "cell_type": "code",
      "execution_count": 18,
      "metadata": {
        "editable": false,
        "id": "nDdrmBlbl0iP"
      },
      "outputs": [],
      "source": [
        "assert original == [\"I\", \"am\", \"learning\", \"hacking\", \"in\"]\n",
        "assert modified == [\"I\", \"am\", \"learning\", \"lists\", \"in\", \"Python\"]"
      ]
    },
    {
      "cell_type": "markdown",
      "metadata": {
        "id": "xW71jDPfl0iP"
      },
      "source": [
        "# 3. Create a merged sorted list"
      ]
    },
    {
      "cell_type": "code",
      "execution_count": 19,
      "metadata": {
        "editable": false,
        "id": "JwgTTMAzl0iQ"
      },
      "outputs": [],
      "source": [
        "list1 = [6, 12, 5]\n",
        "list2 = [6.2, 0, 14, 1]\n",
        "list3 = [0.9]"
      ]
    },
    {
      "cell_type": "code",
      "execution_count": 22,
      "metadata": {
        "id": "xSzQ9kyRl0iQ"
      },
      "outputs": [],
      "source": [
        "# Your implementation here\n",
        "my_list = sorted(list1 + list2 + list3, reverse=True)"
      ]
    },
    {
      "cell_type": "code",
      "execution_count": 23,
      "metadata": {
        "editable": false,
        "id": "sJf_wt25l0iQ",
        "colab": {
          "base_uri": "https://localhost:8080/"
        },
        "outputId": "4d0bfac8-2683-43a5-eea1-9544bebafafb"
      },
      "outputs": [
        {
          "output_type": "stream",
          "name": "stdout",
          "text": [
            "[14, 12, 6.2, 6, 5, 1, 0.9, 0]\n"
          ]
        }
      ],
      "source": [
        "print(my_list)\n",
        "assert my_list == [14, 12, 6.2, 6, 5, 1, 0.9, 0]"
      ]
    }
  ],
  "metadata": {
    "kernelspec": {
      "display_name": "Python 3",
      "language": "python",
      "name": "python3"
    },
    "language_info": {
      "codemirror_mode": {
        "name": "ipython",
        "version": 3
      },
      "file_extension": ".py",
      "mimetype": "text/x-python",
      "name": "python",
      "nbconvert_exporter": "python",
      "pygments_lexer": "ipython3",
      "version": "3.5.4"
    },
    "colab": {
      "provenance": [],
      "include_colab_link": true
    }
  },
  "nbformat": 4,
  "nbformat_minor": 0
}