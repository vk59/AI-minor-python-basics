{
  "cells": [
    {
      "cell_type": "markdown",
      "metadata": {
        "id": "view-in-github",
        "colab_type": "text"
      },
      "source": [
        "<a href=\"https://colab.research.google.com/github/vk59/AI-minor-python-basics/blob/main/vk59_10_file_io_exercise.ipynb\" target=\"_parent\"><img src=\"https://colab.research.google.com/assets/colab-badge.svg\" alt=\"Open In Colab\"/></a>"
      ]
    },
    {
      "cell_type": "code",
      "execution_count": 4,
      "metadata": {
        "editable": false,
        "id": "9Rw2ZY6RxE7y"
      },
      "outputs": [],
      "source": [
        "# EXECUTE THIS ONE FIRST!\n",
        "\n",
        "from pathlib import Path\n",
        "\n",
        "# Constants for the exercises:\n",
        "WORKING_DIR = Path.cwd()\n",
        "DATA_DIR = WORKING_DIR.parent"
      ]
    },
    {
      "cell_type": "markdown",
      "metadata": {
        "id": "bB-j4xuvxE7y"
      },
      "source": [
        "# 1. Sum numbers listed in a file\n",
        "Fill ____ pieces of the code below. `sum_numbers_in_file` function takes a input file path as argument, reads the numbers listed in the input file and returns the sum of those numbers. You can assume that each line contains exactly one numeric value."
      ]
    },
    {
      "cell_type": "code",
      "execution_count": 2,
      "metadata": {
        "id": "WhGlACLaxE70"
      },
      "outputs": [],
      "source": [
        "def sum_numbers_in_file(input_file):\n",
        "    total = 0\n",
        "    with open(input_file) as f:\n",
        "        for line in f:\n",
        "            stripped = line.strip()  # Remove potential white space\n",
        "            total += float(stripped)\n",
        "    return total"
      ]
    },
    {
      "cell_type": "code",
      "execution_count": 7,
      "metadata": {
        "editable": false,
        "id": "dZdx27HjxE70",
        "colab": {
          "base_uri": "https://localhost:8080/"
        },
        "outputId": "e63cb7cd-f67e-4a32-84ec-6de057f7f1d9"
      },
      "outputs": [
        {
          "output_type": "stream",
          "name": "stdout",
          "text": [
            "1\n",
            "\n",
            "188\n",
            "\n",
            "0.5\n"
          ]
        }
      ],
      "source": [
        "in_file = \"numbers.txt\"\n",
        "assert sum_numbers_in_file(in_file) == 189.5\n",
        "\n",
        "with open(in_file) as f:\n",
        "  for line in f:\n",
        "    print(line)"
      ]
    },
    {
      "cell_type": "markdown",
      "metadata": {
        "id": "JLWmiZ3_xE70"
      },
      "source": [
        "# 2. Reading first word from each line of a file\n",
        "Implement `find_first_words` function which takes an input file path as argument. The function should find the first word of each line in the file and return these words as a list. If a line is empty, the returned list should contain an empty string for that line."
      ]
    },
    {
      "cell_type": "code",
      "execution_count": 10,
      "metadata": {
        "id": "f6IpEplWxE70"
      },
      "outputs": [],
      "source": [
        "def find_first_words(input_file):\n",
        "  total = 0\n",
        "  words = []\n",
        "  with open(input_file) as f:\n",
        "    for line in f:\n",
        "      if (len(line.split()) == 0):\n",
        "        words.append(\"\")\n",
        "      else:\n",
        "        words.append(line.split()[0])\n",
        "  return words"
      ]
    },
    {
      "cell_type": "code",
      "execution_count": 13,
      "metadata": {
        "editable": false,
        "id": "Pffyh2HuxE70",
        "colab": {
          "base_uri": "https://localhost:8080/"
        },
        "outputId": "39be356d-7a09-4f9c-9054-2295187b2745"
      },
      "outputs": [
        {
          "output_type": "stream",
          "name": "stdout",
          "text": [
            "\n",
            "=======================\n",
            "TASK 1\n",
            "=======================\n",
            "\n",
            "First s;fgksdf ag sdfg sdf gsgf sdfg ds\n",
            "\n",
            "Second fdgs fgsd fg sdfg  fgsd fg s\n",
            "\n",
            "Third party\n",
            "\n",
            "And \n",
            "\n",
            "=======================\n",
            "TASK 2\n",
            "=======================\n",
            "\n",
            "The s;fgksdf ag sdfg sdf gsgf sdfg ds\n",
            "\n",
            "\n",
            "\n",
            "First party\n",
            "\n",
            "nonsense\n",
            "\n",
            "\n",
            "\n",
            "Then\n"
          ]
        }
      ],
      "source": [
        "in_file1 = \"simple_file.txt\"\n",
        "in_file2 = \"simple_file_with_empty_lines.txt\"\n",
        "\n",
        "expected_file_1 = [\"First\", \"Second\", \"Third\", \"And\"]\n",
        "assert find_first_words(in_file1) == expected_file_1\n",
        "\n",
        "expected_file_2 = [\"The\", \"\", \"First\", \"nonsense\", \"\", \"Then\"]\n",
        "assert find_first_words(in_file2) == expected_file_2\n",
        "\n",
        "print(\"\\n=======================\\nTASK 1\\n=======================\\n\")\n",
        "\n",
        "with open(in_file1) as f:\n",
        "  for line in f:\n",
        "    print(line)\n",
        "\n",
        "\n",
        "print(\"\\n=======================\\nTASK 2\\n=======================\\n\")\n",
        "\n",
        "with open(in_file2) as f:\n",
        "  for line in f:\n",
        "    print(line)"
      ]
    }
  ],
  "metadata": {
    "celltoolbar": "Edit Metadata",
    "kernelspec": {
      "display_name": "Python 3 (ipykernel)",
      "language": "python",
      "name": "python3"
    },
    "language_info": {
      "codemirror_mode": {
        "name": "ipython",
        "version": 3
      },
      "file_extension": ".py",
      "mimetype": "text/x-python",
      "name": "python",
      "nbconvert_exporter": "python",
      "pygments_lexer": "ipython3",
      "version": "3.11.0"
    },
    "colab": {
      "provenance": [],
      "include_colab_link": true
    }
  },
  "nbformat": 4,
  "nbformat_minor": 0
}