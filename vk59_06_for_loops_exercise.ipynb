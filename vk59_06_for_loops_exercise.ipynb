{
  "cells": [
    {
      "cell_type": "markdown",
      "metadata": {
        "id": "view-in-github",
        "colab_type": "text"
      },
      "source": [
        "<a href=\"https://colab.research.google.com/github/vk59/AI-minor-python-basics/blob/main/vk59_06_for_loops_exercise.ipynb\" target=\"_parent\"><img src=\"https://colab.research.google.com/assets/colab-badge.svg\" alt=\"Open In Colab\"/></a>"
      ]
    },
    {
      "cell_type": "markdown",
      "metadata": {
        "id": "nWwu38BWqFed"
      },
      "source": [
        "# 1. Fill the missing pieces\n",
        "Fill the `____` parts in the code below."
      ]
    },
    {
      "cell_type": "code",
      "execution_count": 1,
      "metadata": {
        "id": "DwD_qIH4qFee"
      },
      "outputs": [],
      "source": [
        "words = [\"PYTHON\", \"JOHN\", \"chEEse\", \"hAm\", \"DOE\", \"123\"]\n",
        "upper_case_words = []\n",
        "\n",
        "for w in words:\n",
        "    if w.isupper():\n",
        "        upper_case_words.append(w)"
      ]
    },
    {
      "cell_type": "code",
      "execution_count": 2,
      "metadata": {
        "editable": false,
        "id": "yA6bartfqFef"
      },
      "outputs": [],
      "source": [
        "assert upper_case_words == [\"PYTHON\", \"JOHN\", \"DOE\"]"
      ]
    },
    {
      "cell_type": "markdown",
      "metadata": {
        "id": "AjEYq8G5qFeg"
      },
      "source": [
        "# 2. Calculate the sum of dict values\n",
        "Calculate the sum of the values in `magic_dict` by taking only into account numeric values (hint: see [isinstance](https://docs.python.org/3/library/functions.html#isinstance))."
      ]
    },
    {
      "cell_type": "code",
      "execution_count": 3,
      "metadata": {
        "editable": false,
        "id": "D0BqfsdjqFeg"
      },
      "outputs": [],
      "source": [
        "magic_dict = dict(val1=44, val2=\"secret value\", val3=55.0, val4=1)"
      ]
    },
    {
      "cell_type": "code",
      "execution_count": 5,
      "metadata": {
        "id": "eH8_JwXCqFeg",
        "colab": {
          "base_uri": "https://localhost:8080/"
        },
        "outputId": "ab1f8dca-e887-420c-fbba-3047a14663b2"
      },
      "outputs": [
        {
          "output_type": "execute_result",
          "data": {
            "text/plain": [
              "100"
            ]
          },
          "metadata": {},
          "execution_count": 5
        }
      ],
      "source": [
        "# Your implementation\n",
        "sum_of_values = 0\n",
        "for val in magic_dict.values():\n",
        "  if not isinstance(val, str):\n",
        "    sum_of_values += int(val)\n",
        "\n",
        "sum_of_values"
      ]
    },
    {
      "cell_type": "code",
      "execution_count": 6,
      "metadata": {
        "editable": false,
        "id": "eOodiY9gqFeg"
      },
      "outputs": [],
      "source": [
        "assert sum_of_values == 100"
      ]
    },
    {
      "cell_type": "markdown",
      "metadata": {
        "id": "rSiEYsYoqFeh"
      },
      "source": [
        "# 3. Create a list of strings based on a list of numbers\n",
        "The rules:\n",
        "* If the number is a multiple of five and odd, the string should be `'five odd'`\n",
        "* If the number is a multiple of five and even, the string should be `'five even'`\n",
        "* If the number is odd, the string is `'odd'`\n",
        "* If the number is even, the string is `'even'`"
      ]
    },
    {
      "cell_type": "code",
      "execution_count": 7,
      "metadata": {
        "editable": false,
        "id": "mxAtYe2WqFeh"
      },
      "outputs": [],
      "source": [
        "numbers = [1, 3, 4, 6, 81, 80, 100, 95]"
      ]
    },
    {
      "cell_type": "code",
      "execution_count": 16,
      "metadata": {
        "id": "hRMZOJboqFeh",
        "colab": {
          "base_uri": "https://localhost:8080/"
        },
        "outputId": "1005aeed-7803-4c2b-a724-45f2ff780fd5"
      },
      "outputs": [
        {
          "output_type": "execute_result",
          "data": {
            "text/plain": [
              "['odd', 'odd', 'even', 'even', 'odd', 'five even', 'five even', 'five odd']"
            ]
          },
          "metadata": {},
          "execution_count": 16
        }
      ],
      "source": [
        "# Your implementation\n",
        "def str_by_num(num):\n",
        "  result = \"\"\n",
        "  if num % 5 == 0:\n",
        "    result += \"five \"\n",
        "  if num % 2 == 0:\n",
        "    result += \"even\"\n",
        "  else:\n",
        "    result += \"odd\"\n",
        "  return result\n",
        "my_list = [str_by_num(num) for num in numbers]\n",
        "my_list"
      ]
    },
    {
      "cell_type": "code",
      "execution_count": 17,
      "metadata": {
        "editable": false,
        "id": "32Lw4jT0qFei"
      },
      "outputs": [],
      "source": [
        "assert my_list == [\n",
        "    \"odd\",\n",
        "    \"odd\",\n",
        "    \"even\",\n",
        "    \"even\",\n",
        "    \"odd\",\n",
        "    \"five even\",\n",
        "    \"five even\",\n",
        "    \"five odd\",\n",
        "]"
      ]
    }
  ],
  "metadata": {
    "kernelspec": {
      "display_name": "Python 3 (ipykernel)",
      "language": "python",
      "name": "python3"
    },
    "language_info": {
      "codemirror_mode": {
        "name": "ipython",
        "version": 3
      },
      "file_extension": ".py",
      "mimetype": "text/x-python",
      "name": "python",
      "nbconvert_exporter": "python",
      "pygments_lexer": "ipython3",
      "version": "3.11.0"
    },
    "colab": {
      "provenance": [],
      "include_colab_link": true
    }
  },
  "nbformat": 4,
  "nbformat_minor": 0
}