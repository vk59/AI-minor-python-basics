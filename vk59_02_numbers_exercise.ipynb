{
  "cells": [
    {
      "cell_type": "markdown",
      "metadata": {
        "id": "view-in-github",
        "colab_type": "text"
      },
      "source": [
        "<a href=\"https://colab.research.google.com/github/vk59/AI-minor-python-basics/blob/main/vk59_02_numbers_exercise.ipynb\" target=\"_parent\"><img src=\"https://colab.research.google.com/assets/colab-badge.svg\" alt=\"Open In Colab\"/></a>"
      ]
    },
    {
      "cell_type": "markdown",
      "metadata": {
        "id": "ils6gkjei-S1"
      },
      "source": [
        "# 1. Creating formulas\n",
        "Write the following mathematical formula in Python:\n",
        "\n",
        "\\begin{align}\n",
        " result = 6a^3 - \\frac{8b^2 }{4c} + 11\n",
        "\\end{align}\n"
      ]
    },
    {
      "cell_type": "code",
      "execution_count": 9,
      "metadata": {
        "editable": false,
        "id": "nkJOizkpi-S2"
      },
      "outputs": [],
      "source": [
        "a = 2\n",
        "b = 3\n",
        "c = 2"
      ]
    },
    {
      "cell_type": "code",
      "execution_count": 10,
      "metadata": {
        "id": "oa5Vk6xki-S3"
      },
      "outputs": [],
      "source": [
        "# Your formula here:\n",
        "result = 6 * a**3 - 8 * b**2 / 4 / c + 11"
      ]
    },
    {
      "cell_type": "code",
      "execution_count": 11,
      "metadata": {
        "editable": false,
        "id": "1aqI9cwEi-S3"
      },
      "outputs": [],
      "source": [
        "assert result == 50"
      ]
    },
    {
      "cell_type": "markdown",
      "metadata": {
        "id": "Vcng6dtBi-S4"
      },
      "source": [
        "# 2. Floating point pitfalls\n",
        "Show that `0.1 + 0.2 == 0.3`"
      ]
    },
    {
      "cell_type": "code",
      "execution_count": 12,
      "metadata": {
        "id": "XCJukuQ0i-S4",
        "colab": {
          "base_uri": "https://localhost:8080/"
        },
        "outputId": "cb0c8b29-7cca-406b-f7b0-97745b6eb98c"
      },
      "outputs": [
        {
          "output_type": "stream",
          "name": "stdout",
          "text": [
            "True\n"
          ]
        }
      ],
      "source": [
        "import math\n",
        "# Your solution here\n",
        "\n",
        "# This won't work:\n",
        "# assert 0.1 + 0.2 == 0.3\n",
        "\n",
        "print(math.isclose(0.1 + 0.2, 0.3))"
      ]
    }
  ],
  "metadata": {
    "kernelspec": {
      "display_name": "Python 3",
      "language": "python",
      "name": "python3"
    },
    "language_info": {
      "codemirror_mode": {
        "name": "ipython",
        "version": 3
      },
      "file_extension": ".py",
      "mimetype": "text/x-python",
      "name": "python",
      "nbconvert_exporter": "python",
      "pygments_lexer": "ipython3",
      "version": "3.5.4"
    },
    "colab": {
      "provenance": [],
      "include_colab_link": true
    }
  },
  "nbformat": 4,
  "nbformat_minor": 0
}