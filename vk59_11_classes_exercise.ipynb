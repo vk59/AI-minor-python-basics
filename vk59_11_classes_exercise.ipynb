{
  "cells": [
    {
      "cell_type": "markdown",
      "metadata": {
        "id": "view-in-github",
        "colab_type": "text"
      },
      "source": [
        "<a href=\"https://colab.research.google.com/github/vk59/AI-minor-python-basics/blob/main/vk59_11_classes_exercise.ipynb\" target=\"_parent\"><img src=\"https://colab.research.google.com/assets/colab-badge.svg\" alt=\"Open In Colab\"/></a>"
      ]
    },
    {
      "cell_type": "markdown",
      "metadata": {
        "id": "sTgk3tk40Yaq"
      },
      "source": [
        "# 1. Fill the missing pieces of the `Calculator` class\n",
        "Fill `____` pieces of the `Calculator` implemention in order to pass the assertions."
      ]
    },
    {
      "cell_type": "code",
      "execution_count": 1,
      "metadata": {
        "id": "hV_quPZm0Yar"
      },
      "outputs": [],
      "source": [
        "class Calculator:\n",
        "    def __init__(self, var1, var2):\n",
        "        self.var1 = var1\n",
        "        self.var2 = var2\n",
        "\n",
        "    def calculate_power(self):\n",
        "        return self.var1**self.var2\n",
        "\n",
        "    def calculate_sum(self, var3):\n",
        "        return self.var1 + self.var2 + var3"
      ]
    },
    {
      "cell_type": "code",
      "execution_count": 2,
      "metadata": {
        "editable": false,
        "id": "EZMV-Vnc0Yas"
      },
      "outputs": [],
      "source": [
        "calc = Calculator(2, 3)\n",
        "assert calc.calculate_power() == 8\n",
        "assert calc.calculate_sum(4) == 9"
      ]
    },
    {
      "cell_type": "markdown",
      "metadata": {
        "id": "qJphPwDF0Yas"
      },
      "source": [
        "# 2. Finalize `StringManipulator` class\n",
        "Fill `____` pieces and create implementation for `stripped_title()`."
      ]
    },
    {
      "cell_type": "code",
      "execution_count": 9,
      "metadata": {
        "id": "QvBGmj8Z0Yas"
      },
      "outputs": [],
      "source": [
        "class StringManipulator:\n",
        "    \"\"\"Docstring of StringManipulator\"\"\"\n",
        "\n",
        "    category = \"Manipulator\"\n",
        "\n",
        "    def __init__(self, original):\n",
        "        self.string = original\n",
        "\n",
        "    def reverse_words(self):\n",
        "        words = self.string.split()\n",
        "        self.string = ' '.join(reversed(words))\n",
        "\n",
        "    def make_title(self):\n",
        "        self.string = self.string.title()\n",
        "\n",
        "    def get_manipulated(self):\n",
        "        return self.string"
      ]
    },
    {
      "cell_type": "code",
      "execution_count": 10,
      "metadata": {
        "editable": false,
        "id": "c_YZqwq90Yat"
      },
      "outputs": [],
      "source": [
        "assert StringManipulator.__doc__ == \"Docstring of StringManipulator\"\n",
        "assert StringManipulator.category == \"Manipulator\"\n",
        "\n",
        "str_manip = StringManipulator(\"cOOL pyThON\")\n",
        "\n",
        "str_manip.reverse_words()\n",
        "assert str_manip.get_manipulated() == \"pyThON cOOL\"\n",
        "\n",
        "str_manip.make_title()\n",
        "assert str_manip.get_manipulated() == \"Python Cool\""
      ]
    },
    {
      "cell_type": "markdown",
      "metadata": {
        "id": "Qc7SeKIH0Yat"
      },
      "source": [
        "# 3. Create `Dog` class\n",
        "Create `Dog` class which has the following specification:\n",
        "* Dogs consume their energy by barking and gain energy by sleeping\n",
        "* A fresh `Dog` instance has 10 units of energy\n",
        "* `Dog` has a method `sleep` which gives 2 units of energy\n",
        "* `Dog` has a method `bark` which consumes 1 unit of energy\n",
        "* `Dog` has a method `get_energy` which returns the amount of energy left"
      ]
    },
    {
      "cell_type": "code",
      "execution_count": 14,
      "metadata": {
        "id": "zKs1PPhQ0Yat",
        "colab": {
          "base_uri": "https://localhost:8080/"
        },
        "outputId": "140f544c-9959-4829-fcff-27af2d71a396"
      },
      "outputs": [
        {
          "output_type": "execute_result",
          "data": {
            "text/plain": [
              "10"
            ]
          },
          "metadata": {},
          "execution_count": 14
        }
      ],
      "source": [
        "class Dog:\n",
        "\n",
        "    def __init__(self):\n",
        "      self.__energy = 10\n",
        "\n",
        "    def bark(self):\n",
        "      self.__energy -= 1\n",
        "\n",
        "    def sleep(self):\n",
        "      self.__energy += 2\n",
        "\n",
        "    def get_energy(self):\n",
        "      return self.__energy\n",
        "\n",
        "doge = Dog()\n",
        "doge.get_energy()"
      ]
    },
    {
      "cell_type": "code",
      "execution_count": 15,
      "metadata": {
        "editable": false,
        "id": "uBOd4_Sw0Yat"
      },
      "outputs": [],
      "source": [
        "doge = Dog()\n",
        "assert doge.get_energy() == 10\n",
        "\n",
        "doge.bark()\n",
        "doge.bark()\n",
        "doge.bark()\n",
        "assert doge.get_energy() == 7\n",
        "\n",
        "doge.sleep()\n",
        "assert doge.get_energy() == 9\n",
        "\n",
        "another_doge = Dog()\n",
        "assert another_doge.get_energy() == 10"
      ]
    }
  ],
  "metadata": {
    "kernelspec": {
      "display_name": "Python 3 (ipykernel)",
      "language": "python",
      "name": "python3"
    },
    "language_info": {
      "codemirror_mode": {
        "name": "ipython",
        "version": 3
      },
      "file_extension": ".py",
      "mimetype": "text/x-python",
      "name": "python",
      "nbconvert_exporter": "python",
      "pygments_lexer": "ipython3",
      "version": "3.11.0"
    },
    "colab": {
      "provenance": [],
      "include_colab_link": true
    }
  },
  "nbformat": 4,
  "nbformat_minor": 0
}