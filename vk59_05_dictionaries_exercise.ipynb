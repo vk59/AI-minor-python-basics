{
  "cells": [
    {
      "cell_type": "markdown",
      "metadata": {
        "id": "view-in-github",
        "colab_type": "text"
      },
      "source": [
        "<a href=\"https://colab.research.google.com/github/vk59/AI-minor-python-basics/blob/main/vk59_05_dictionaries_exercise.ipynb\" target=\"_parent\"><img src=\"https://colab.research.google.com/assets/colab-badge.svg\" alt=\"Open In Colab\"/></a>"
      ]
    },
    {
      "cell_type": "markdown",
      "metadata": {
        "id": "AMDHKkqYnZ8V"
      },
      "source": [
        "# 1. Populating a dictionary\n",
        "Create a dictionary by using all the given variables."
      ]
    },
    {
      "cell_type": "code",
      "execution_count": 1,
      "metadata": {
        "editable": false,
        "id": "tIM5HG21nZ8W"
      },
      "outputs": [],
      "source": [
        "first_name = \"John\"\n",
        "last_name = \"Doe\"\n",
        "favorite_hobby = \"Python\"\n",
        "sports_hobby = \"gym\"\n",
        "age = 82"
      ]
    },
    {
      "cell_type": "code",
      "execution_count": 4,
      "metadata": {
        "id": "yhoDR-hWnZ8X",
        "colab": {
          "base_uri": "https://localhost:8080/"
        },
        "outputId": "26878413-7889-454a-ea9f-aaa37f9164b6"
      },
      "outputs": [
        {
          "output_type": "execute_result",
          "data": {
            "text/plain": [
              "{'name': 'John Doe', 'age': 82, 'hobbies': ['Python', 'gym']}"
            ]
          },
          "metadata": {},
          "execution_count": 4
        }
      ],
      "source": [
        "# Your implementation\n",
        "my_dict = { \"name\": f\"{first_name} {last_name}\", \"age\": age, \"hobbies\": [favorite_hobby, sports_hobby] }\n",
        "my_dict"
      ]
    },
    {
      "cell_type": "code",
      "execution_count": 3,
      "metadata": {
        "editable": false,
        "id": "gbLGRtJWnZ8Y"
      },
      "outputs": [],
      "source": [
        "assert my_dict == {\"name\": \"John Doe\", \"age\": 82, \"hobbies\": [\"Python\", \"gym\"]}"
      ]
    },
    {
      "cell_type": "markdown",
      "metadata": {
        "id": "g9zVKWywnZ8Y"
      },
      "source": [
        "# 2. Accessing and merging dictionaries\n",
        "Combine `dict1`, `dict2`, and `dict3` into `my_dict`. In addition, get the value of `special_key` from `my_dict` into a `special_value` variable. Note that original dictionaries should stay untouched and `special_key` should be removed from `my_dict`."
      ]
    },
    {
      "cell_type": "code",
      "execution_count": 25,
      "metadata": {
        "editable": false,
        "id": "f78asH8NnZ8Y"
      },
      "outputs": [],
      "source": [
        "dict1 = dict(key1=\"This is not that hard\", key2=\"Python is still cool\")\n",
        "dict2 = {\"key1\": 123, \"special_key\": \"secret\"}\n",
        "# This is also a away to initialize a dict (list of tuples)\n",
        "dict3 = dict([(\"key2\", 456), (\"keyX\", \"X\")])"
      ]
    },
    {
      "cell_type": "code",
      "execution_count": 26,
      "metadata": {
        "id": "39WTV6m7nZ8Y",
        "colab": {
          "base_uri": "https://localhost:8080/"
        },
        "outputId": "1eae0a41-24c1-4dc8-a611-24b854314e1d"
      },
      "outputs": [
        {
          "output_type": "execute_result",
          "data": {
            "text/plain": [
              "{'key1': 123, 'key2': 456, 'keyX': 'X'}"
            ]
          },
          "metadata": {},
          "execution_count": 26
        }
      ],
      "source": [
        "# 'Your impelementation'\n",
        "my_dict = dict(dict1)\n",
        "my_dict.update(dict2)\n",
        "my_dict.update(dict3)\n",
        "special_value = my_dict.pop(\"special_key\")\n",
        "my_dict"
      ]
    },
    {
      "cell_type": "code",
      "execution_count": 27,
      "metadata": {
        "editable": false,
        "id": "7yMR78ainZ8Y"
      },
      "outputs": [],
      "source": [
        "assert my_dict == {\"key1\": 123, \"key2\": 456, \"keyX\": \"X\"}\n",
        "assert special_value == \"secret\"\n",
        "\n",
        "# Let's check that the originals are untouched\n",
        "assert dict1 == {\"key1\": \"This is not that hard\", \"key2\": \"Python is still cool\"}\n",
        "assert dict2 == {\"key1\": 123, \"special_key\": \"secret\"}\n",
        "assert dict3 == {\"key2\": 456, \"keyX\": \"X\"}"
      ]
    }
  ],
  "metadata": {
    "celltoolbar": "Edit Metadata",
    "kernelspec": {
      "display_name": "Python 3",
      "language": "python",
      "name": "python3"
    },
    "language_info": {
      "codemirror_mode": {
        "name": "ipython",
        "version": 3
      },
      "file_extension": ".py",
      "mimetype": "text/x-python",
      "name": "python",
      "nbconvert_exporter": "python",
      "pygments_lexer": "ipython3",
      "version": "3.5.4"
    },
    "colab": {
      "provenance": [],
      "include_colab_link": true
    }
  },
  "nbformat": 4,
  "nbformat_minor": 0
}