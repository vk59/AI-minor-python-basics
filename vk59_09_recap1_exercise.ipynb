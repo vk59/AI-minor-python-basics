{
  "cells": [
    {
      "cell_type": "markdown",
      "metadata": {
        "id": "view-in-github",
        "colab_type": "text"
      },
      "source": [
        "<a href=\"https://colab.research.google.com/github/vk59/AI-minor-python-basics/blob/main/vk59_09_recap1_exercise.ipynb\" target=\"_parent\"><img src=\"https://colab.research.google.com/assets/colab-badge.svg\" alt=\"Open In Colab\"/></a>"
      ]
    },
    {
      "cell_type": "markdown",
      "metadata": {
        "id": "sGeBBx5muqkn"
      },
      "source": [
        "# 1. Super vowels\n",
        "Implement `super_vowels` function which takes a string as an argument and returns a modified version of that string. In the return value of `super_vowels`, all vowels should be in upper case whereas all consonants should be in lower case. The vowels are listed in the `VOWELS` variable."
      ]
    },
    {
      "cell_type": "code",
      "execution_count": 1,
      "metadata": {
        "editable": false,
        "id": "6qrGHu3Suqko"
      },
      "outputs": [],
      "source": [
        "VOWELS = [\"a\", \"e\", \"i\", \"o\", \"u\"]"
      ]
    },
    {
      "cell_type": "code",
      "execution_count": 8,
      "metadata": {
        "id": "plKveOyyuqkp",
        "colab": {
          "base_uri": "https://localhost:8080/",
          "height": 36
        },
        "outputId": "0cc666a5-cabc-438e-d878-72c27fd0947c"
      },
      "outputs": [
        {
          "output_type": "execute_result",
          "data": {
            "text/plain": [
              "'hOw ArE yOU?'"
            ],
            "application/vnd.google.colaboratory.intrinsic+json": {
              "type": "string"
            }
          },
          "metadata": {},
          "execution_count": 8
        }
      ],
      "source": [
        "def super_vowels(s):\n",
        "  res = \"\"\n",
        "  for ch in s:\n",
        "    if ch.lower() in VOWELS:\n",
        "      res += ch.upper()\n",
        "    else:\n",
        "      res += ch.lower()\n",
        "  return res\n",
        "\n",
        "super_vowels(\"HOw aRE You?\")"
      ]
    },
    {
      "cell_type": "code",
      "execution_count": 9,
      "metadata": {
        "editable": false,
        "id": "vfwH2KjRuqkp"
      },
      "outputs": [],
      "source": [
        "assert super_vowels(\"hi wassup!\") == \"hI wAssUp!\"\n",
        "assert super_vowels(\"HOw aRE You?\") == \"hOw ArE yOU?\""
      ]
    },
    {
      "cell_type": "markdown",
      "metadata": {
        "id": "T-b1uUx8uqkp"
      },
      "source": [
        "# 2. Playing board\n",
        "Implement `get_playing_board` function which takes an integer as an argument. The function should return a string which resemples a playing board (e.g. a chess board). The board should contain as many rows and columns as requested by the interger argument. See the cell below for examples of desired behavior.\n"
      ]
    },
    {
      "cell_type": "code",
      "execution_count": 14,
      "metadata": {
        "id": "GG46lmu9uqkp",
        "colab": {
          "base_uri": "https://localhost:8080/",
          "height": 36
        },
        "outputId": "c715150e-2d50-48d9-e965-88728f8db1c2"
      },
      "outputs": [
        {
          "output_type": "execute_result",
          "data": {
            "text/plain": [
              "' * * \\n* * *\\n * * \\n* * *\\n * * \\n'"
            ],
            "application/vnd.google.colaboratory.intrinsic+json": {
              "type": "string"
            }
          },
          "metadata": {},
          "execution_count": 14
        }
      ],
      "source": [
        "# Your implementation here\n",
        "\n",
        "def get_playing_board(size):\n",
        "  res = \"\"\n",
        "  for i in range(0, size):\n",
        "    for j in range(0, size):\n",
        "      if (i + j) % 2 == 0:\n",
        "        res += \" \"\n",
        "      else:\n",
        "        res += \"*\"\n",
        "    res += \"\\n\"\n",
        "  return res\n",
        "\n",
        "get_playing_board(5)"
      ]
    },
    {
      "cell_type": "code",
      "execution_count": 15,
      "metadata": {
        "editable": false,
        "id": "gQmdeWuHuqkq",
        "colab": {
          "base_uri": "https://localhost:8080/"
        },
        "outputId": "6a568841-ff36-4947-9e6e-34cb61428c27"
      },
      "outputs": [
        {
          "output_type": "stream",
          "name": "stdout",
          "text": [
            " * * * * * * * * * * * * * * * * * * * * * * * * *\n",
            "* * * * * * * * * * * * * * * * * * * * * * * * * \n",
            " * * * * * * * * * * * * * * * * * * * * * * * * *\n",
            "* * * * * * * * * * * * * * * * * * * * * * * * * \n",
            " * * * * * * * * * * * * * * * * * * * * * * * * *\n",
            "* * * * * * * * * * * * * * * * * * * * * * * * * \n",
            " * * * * * * * * * * * * * * * * * * * * * * * * *\n",
            "* * * * * * * * * * * * * * * * * * * * * * * * * \n",
            " * * * * * * * * * * * * * * * * * * * * * * * * *\n",
            "* * * * * * * * * * * * * * * * * * * * * * * * * \n",
            " * * * * * * * * * * * * * * * * * * * * * * * * *\n",
            "* * * * * * * * * * * * * * * * * * * * * * * * * \n",
            " * * * * * * * * * * * * * * * * * * * * * * * * *\n",
            "* * * * * * * * * * * * * * * * * * * * * * * * * \n",
            " * * * * * * * * * * * * * * * * * * * * * * * * *\n",
            "* * * * * * * * * * * * * * * * * * * * * * * * * \n",
            " * * * * * * * * * * * * * * * * * * * * * * * * *\n",
            "* * * * * * * * * * * * * * * * * * * * * * * * * \n",
            " * * * * * * * * * * * * * * * * * * * * * * * * *\n",
            "* * * * * * * * * * * * * * * * * * * * * * * * * \n",
            " * * * * * * * * * * * * * * * * * * * * * * * * *\n",
            "* * * * * * * * * * * * * * * * * * * * * * * * * \n",
            " * * * * * * * * * * * * * * * * * * * * * * * * *\n",
            "* * * * * * * * * * * * * * * * * * * * * * * * * \n",
            " * * * * * * * * * * * * * * * * * * * * * * * * *\n",
            "* * * * * * * * * * * * * * * * * * * * * * * * * \n",
            " * * * * * * * * * * * * * * * * * * * * * * * * *\n",
            "* * * * * * * * * * * * * * * * * * * * * * * * * \n",
            " * * * * * * * * * * * * * * * * * * * * * * * * *\n",
            "* * * * * * * * * * * * * * * * * * * * * * * * * \n",
            " * * * * * * * * * * * * * * * * * * * * * * * * *\n",
            "* * * * * * * * * * * * * * * * * * * * * * * * * \n",
            " * * * * * * * * * * * * * * * * * * * * * * * * *\n",
            "* * * * * * * * * * * * * * * * * * * * * * * * * \n",
            " * * * * * * * * * * * * * * * * * * * * * * * * *\n",
            "* * * * * * * * * * * * * * * * * * * * * * * * * \n",
            " * * * * * * * * * * * * * * * * * * * * * * * * *\n",
            "* * * * * * * * * * * * * * * * * * * * * * * * * \n",
            " * * * * * * * * * * * * * * * * * * * * * * * * *\n",
            "* * * * * * * * * * * * * * * * * * * * * * * * * \n",
            " * * * * * * * * * * * * * * * * * * * * * * * * *\n",
            "* * * * * * * * * * * * * * * * * * * * * * * * * \n",
            " * * * * * * * * * * * * * * * * * * * * * * * * *\n",
            "* * * * * * * * * * * * * * * * * * * * * * * * * \n",
            " * * * * * * * * * * * * * * * * * * * * * * * * *\n",
            "* * * * * * * * * * * * * * * * * * * * * * * * * \n",
            " * * * * * * * * * * * * * * * * * * * * * * * * *\n",
            "* * * * * * * * * * * * * * * * * * * * * * * * * \n",
            " * * * * * * * * * * * * * * * * * * * * * * * * *\n",
            "* * * * * * * * * * * * * * * * * * * * * * * * * \n",
            "\n"
          ]
        }
      ],
      "source": [
        "board_of_5 = \" * * \\n\" \"* * *\\n\" \" * * \\n\" \"* * *\\n\" \" * * \\n\"\n",
        "\n",
        "board_of_10 = (\n",
        "    \" * * * * *\\n\"\n",
        "    \"* * * * * \\n\"\n",
        "    \" * * * * *\\n\"\n",
        "    \"* * * * * \\n\"\n",
        "    \" * * * * *\\n\"\n",
        "    \"* * * * * \\n\"\n",
        "    \" * * * * *\\n\"\n",
        "    \"* * * * * \\n\"\n",
        "    \" * * * * *\\n\"\n",
        "    \"* * * * * \\n\"\n",
        ")\n",
        "\n",
        "assert get_playing_board(5) == board_of_5\n",
        "assert get_playing_board(10) == board_of_10\n",
        "\n",
        "print(get_playing_board(50))"
      ]
    }
  ],
  "metadata": {
    "kernelspec": {
      "display_name": "Python 3 (ipykernel)",
      "language": "python",
      "name": "python3"
    },
    "language_info": {
      "codemirror_mode": {
        "name": "ipython",
        "version": 3
      },
      "file_extension": ".py",
      "mimetype": "text/x-python",
      "name": "python",
      "nbconvert_exporter": "python",
      "pygments_lexer": "ipython3",
      "version": "3.11.0"
    },
    "colab": {
      "provenance": [],
      "include_colab_link": true
    }
  },
  "nbformat": 4,
  "nbformat_minor": 0
}