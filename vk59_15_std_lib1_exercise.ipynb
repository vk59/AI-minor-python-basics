{
  "cells": [
    {
      "cell_type": "markdown",
      "metadata": {
        "id": "view-in-github",
        "colab_type": "text"
      },
      "source": [
        "<a href=\"https://colab.research.google.com/github/vk59/AI-minor-python-basics/blob/main/vk59_15_std_lib1_exercise.ipynb\" target=\"_parent\"><img src=\"https://colab.research.google.com/assets/colab-badge.svg\" alt=\"Open In Colab\"/></a>"
      ]
    },
    {
      "cell_type": "markdown",
      "metadata": {
        "id": "x6E-BkgE4LNo"
      },
      "source": [
        "# 1. Playing with datetimes\n",
        "You're given a naive datetime, see `NAIVE_DT` variable below. Although this variable is naive, you happen to know that the time specified by `NAIVE_DT` is in UTC.\n",
        "\n",
        "Based on this information, your task is to create new datetime variables by converting `NAIVE_DT` to UTC and then to time in Sydney and Los Angeles. Use the following variable names: `utc_dt`, `sydney_dt`, and `la_dt`."
      ]
    },
    {
      "cell_type": "code",
      "execution_count": 3,
      "metadata": {
        "editable": false,
        "id": "_yHeqYGj4LNp",
        "colab": {
          "base_uri": "https://localhost:8080/"
        },
        "outputId": "3d5e25bc-0670-41fc-b3cc-c51c92138801"
      },
      "outputs": [
        {
          "output_type": "execute_result",
          "data": {
            "text/plain": [
              "datetime.datetime(2000, 1, 1, 10, 0, tzinfo=datetime.timezone(datetime.timedelta(0), 'UTC'))"
            ]
          },
          "metadata": {},
          "execution_count": 3
        }
      ],
      "source": [
        "import datetime as dt\n",
        "from zoneinfo import ZoneInfo, available_timezones\n",
        "\n",
        "NAIVE_DT = dt.datetime(2000, 1, 1, 10)\n",
        "NAIVE_DT.astimezone()"
      ]
    },
    {
      "cell_type": "markdown",
      "metadata": {
        "id": "rMHPLRbT4LNq"
      },
      "source": [
        "If you don't know the timezone name you're looking for, this may be helpful:"
      ]
    },
    {
      "cell_type": "code",
      "execution_count": 7,
      "metadata": {
        "editable": false,
        "id": "8jurP7-64LNq",
        "colab": {
          "base_uri": "https://localhost:8080/"
        },
        "outputId": "4ae26568-0ffe-4ff6-f118-5bc5835726ac"
      },
      "outputs": [
        {
          "output_type": "stream",
          "name": "stdout",
          "text": [
            "America/Los_Angeles\n",
            "Australia/Sydney\n"
          ]
        }
      ],
      "source": [
        "for tz in available_timezones():\n",
        "  if \"Los\" in tz or \"Sydney\" in tz:\n",
        "    print(tz)"
      ]
    },
    {
      "cell_type": "markdown",
      "metadata": {
        "id": "k3WXgXmg4LNq"
      },
      "source": [
        "Now create `utc_dt`, `sydney_dt`, and `la_dt`."
      ]
    },
    {
      "cell_type": "code",
      "execution_count": 28,
      "metadata": {
        "id": "QwPo0R-o4LNq",
        "colab": {
          "base_uri": "https://localhost:8080/",
          "height": 36
        },
        "outputId": "8220fe12-96da-46ff-b897-26f83d758292"
      },
      "outputs": [
        {
          "output_type": "execute_result",
          "data": {
            "text/plain": [
              "'2000-01-01T21:00:00+11:00'"
            ],
            "application/vnd.google.colaboratory.intrinsic+json": {
              "type": "string"
            }
          },
          "metadata": {},
          "execution_count": 28
        }
      ],
      "source": [
        "zi_utc = ZoneInfo(\"UTC\")\n",
        "zi_sydney = ZoneInfo(\"Australia/Sydney\")\n",
        "zi_la = ZoneInfo(\"America/Los_Angeles\")\n",
        "\n",
        "utc_dt = NAIVE_DT.replace(tzinfo=zi_utc)\n",
        "sydney_dt = utc_dt.astimezone(zi_sydney)\n",
        "la_dt = utc_dt.astimezone(zi_la)\n",
        "\n",
        "sydney_dt.isoformat()"
      ]
    },
    {
      "cell_type": "markdown",
      "metadata": {
        "id": "b-BISa6M4LNr"
      },
      "source": [
        "Let's verify that the solution is correct."
      ]
    },
    {
      "cell_type": "code",
      "execution_count": 29,
      "metadata": {
        "editable": false,
        "id": "Kv6WjSIC4LNr",
        "colab": {
          "base_uri": "https://localhost:8080/"
        },
        "outputId": "4749c1d7-06e6-405c-e730-6ea2541fb86a"
      },
      "outputs": [
        {
          "output_type": "stream",
          "name": "stdout",
          "text": [
            "All good!\n"
          ]
        }
      ],
      "source": [
        "assert utc_dt.isoformat() == \"2000-01-01T10:00:00+00:00\"\n",
        "assert sydney_dt.isoformat() == \"2000-01-01T21:00:00+11:00\"\n",
        "assert la_dt.isoformat() == \"2000-01-01T02:00:00-08:00\"\n",
        "\n",
        "print(\"All good!\")"
      ]
    }
  ],
  "metadata": {
    "kernelspec": {
      "display_name": "Python 3 (ipykernel)",
      "language": "python",
      "name": "python3"
    },
    "language_info": {
      "codemirror_mode": {
        "name": "ipython",
        "version": 3
      },
      "file_extension": ".py",
      "mimetype": "text/x-python",
      "name": "python",
      "nbconvert_exporter": "python",
      "pygments_lexer": "ipython3",
      "version": "3.11.0"
    },
    "colab": {
      "provenance": [],
      "include_colab_link": true
    }
  },
  "nbformat": 4,
  "nbformat_minor": 0
}