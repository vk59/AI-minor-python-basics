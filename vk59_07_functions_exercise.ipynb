{
  "cells": [
    {
      "cell_type": "markdown",
      "metadata": {
        "id": "view-in-github",
        "colab_type": "text"
      },
      "source": [
        "<a href=\"https://colab.research.google.com/github/vk59/AI-minor-python-basics/blob/main/vk59_07_functions_exercise.ipynb\" target=\"_parent\"><img src=\"https://colab.research.google.com/assets/colab-badge.svg\" alt=\"Open In Colab\"/></a>"
      ]
    },
    {
      "cell_type": "markdown",
      "metadata": {
        "id": "_7-UPYxwr9_I"
      },
      "source": [
        "# 1. Fill the missing pieces of the `count_even_numbers` function\n",
        "Fill `____` pieces of the `count_even_numbers` implemention in order to pass the assertions. You can assume that `numbers` argument is a list of integers."
      ]
    },
    {
      "cell_type": "code",
      "execution_count": 1,
      "metadata": {
        "id": "Y1s78Xp2r9_J"
      },
      "outputs": [],
      "source": [
        "def count_even_numbers(numbers):\n",
        "    count = 0\n",
        "    for num in numbers:\n",
        "        if num % 2 == 0:\n",
        "            count += 1\n",
        "    return count"
      ]
    },
    {
      "cell_type": "code",
      "execution_count": 2,
      "metadata": {
        "editable": false,
        "id": "u8M82GCHr9_K"
      },
      "outputs": [],
      "source": [
        "assert count_even_numbers([1, 2, 3, 4, 5, 6]) == 3\n",
        "assert count_even_numbers([1, 3, 5, 7]) == 0\n",
        "assert count_even_numbers([-2, 2, -10, 8]) == 4"
      ]
    },
    {
      "cell_type": "markdown",
      "metadata": {
        "id": "5GYSN6Vrr9_K"
      },
      "source": [
        "# 2. Searching for wanted people\n",
        "Implement `find_wanted_people` function which takes a list of names (strings) as argument. The function should return a list of names which are present both in `WANTED_PEOPLE` and in the name list given as argument to the function."
      ]
    },
    {
      "cell_type": "code",
      "execution_count": 3,
      "metadata": {
        "editable": false,
        "id": "ONvVg9lSr9_K"
      },
      "outputs": [],
      "source": [
        "WANTED_PEOPLE = [\"John Doe\", \"Clint Eastwood\", \"Chuck Norris\"]"
      ]
    },
    {
      "cell_type": "code",
      "execution_count": 13,
      "metadata": {
        "id": "53UQ8Vgmr9_L",
        "colab": {
          "base_uri": "https://localhost:8080/"
        },
        "outputId": "7243eed8-46fb-48e9-d6f5-863810ab40ab"
      },
      "outputs": [
        {
          "output_type": "execute_result",
          "data": {
            "text/plain": [
              "['Clint Eastwood', 'John Doe']"
            ]
          },
          "metadata": {},
          "execution_count": 13
        }
      ],
      "source": [
        "def find_wanted_people(people):\n",
        "  c = []\n",
        "  for p in people:\n",
        "    if p in WANTED_PEOPLE:\n",
        "      c.append(p)\n",
        "  return c\n",
        "\n",
        "find_wanted_people([\"Donald Duck\", \"Clint Eastwood\", \"John Doe\", \"Barack Obama\"])"
      ]
    },
    {
      "cell_type": "code",
      "execution_count": 14,
      "metadata": {
        "editable": false,
        "id": "UG9liPMfr9_L"
      },
      "outputs": [],
      "source": [
        "people_to_check1 = [\"Donald Duck\", \"Clint Eastwood\", \"John Doe\", \"Barack Obama\"]\n",
        "wanted1 = find_wanted_people(people_to_check1)\n",
        "assert len(wanted1) == 2\n",
        "assert \"John Doe\" in wanted1\n",
        "assert \"Clint Eastwood\" in wanted1\n",
        "\n",
        "people_to_check2 = [\"Donald Duck\", \"Mickey Mouse\", \"Zorro\", \"Superman\", \"Robin Hood\"]\n",
        "wanted2 = find_wanted_people(people_to_check2)\n",
        "assert wanted2 == []"
      ]
    },
    {
      "cell_type": "markdown",
      "metadata": {
        "id": "yw-HCRs3r9_L"
      },
      "source": [
        "# 3. Counting average length of words in a sentence\n",
        "Create a function `average_length_of_words` which takes a string as an argument and returns the average length of the words in the string. You can assume that there is a single space between each word and that the input does not have punctuation. The result should be rounded to one decimal place (hint: see [`round`](https://docs.python.org/3/library/functions.html#round))."
      ]
    },
    {
      "cell_type": "code",
      "execution_count": 24,
      "metadata": {
        "id": "uqG_XjiJr9_L",
        "colab": {
          "base_uri": "https://localhost:8080/"
        },
        "outputId": "07b39982-229d-4392-f390-83b624d2abfe"
      },
      "outputs": [
        {
          "output_type": "execute_result",
          "data": {
            "text/plain": [
              "3.7"
            ]
          },
          "metadata": {},
          "execution_count": 24
        }
      ],
      "source": [
        "# Your implementation here\n",
        "def average_length_of_words(string):\n",
        "  if len(string.split()) == 0:\n",
        "    return 0\n",
        "  s = sum([len(w) for w in string.split()])\n",
        "  return round(s / len(string.split()), 1)\n",
        "\n",
        "average_length_of_words(\"one two three\")"
      ]
    },
    {
      "cell_type": "code",
      "execution_count": 25,
      "metadata": {
        "editable": false,
        "id": "hym4uDAir9_L"
      },
      "outputs": [],
      "source": [
        "assert average_length_of_words(\"only four lett erwo rdss\") == 4\n",
        "assert average_length_of_words(\"one two three\") == 3.7\n",
        "assert average_length_of_words(\"one two three four\") == 3.8\n",
        "assert average_length_of_words(\"\") == 0"
      ]
    }
  ],
  "metadata": {
    "kernelspec": {
      "display_name": "Python 3 (ipykernel)",
      "language": "python",
      "name": "python3"
    },
    "language_info": {
      "codemirror_mode": {
        "name": "ipython",
        "version": 3
      },
      "file_extension": ".py",
      "mimetype": "text/x-python",
      "name": "python",
      "nbconvert_exporter": "python",
      "pygments_lexer": "ipython3",
      "version": "3.11.0"
    },
    "colab": {
      "provenance": [],
      "include_colab_link": true
    }
  },
  "nbformat": 4,
  "nbformat_minor": 0
}