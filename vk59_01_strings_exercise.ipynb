{
  "cells": [
    {
      "cell_type": "markdown",
      "metadata": {
        "id": "view-in-github",
        "colab_type": "text"
      },
      "source": [
        "<a href=\"https://colab.research.google.com/github/vk59/AI-minor-python-basics/blob/main/vk59_01_strings_exercise.ipynb\" target=\"_parent\"><img src=\"https://colab.research.google.com/assets/colab-badge.svg\" alt=\"Open In Colab\"/></a>"
      ]
    },
    {
      "cell_type": "markdown",
      "metadata": {
        "id": "5aUvXvOAgVYv"
      },
      "source": [
        "# 1. Fill missing pieces\n",
        "Fill `____` pieces below to have correct values for `lower_cased`, `stripped` and `stripped_lower_case` variables."
      ]
    },
    {
      "cell_type": "code",
      "execution_count": null,
      "metadata": {
        "id": "xpKRlU8igVYx"
      },
      "outputs": [],
      "source": [
        "original = \" Python strings are COOL! \"\n",
        "lower_cased = original.lower()\n",
        "stripped = original.strip()\n",
        "stripped_lower_cased = original.lower().strip()"
      ]
    },
    {
      "cell_type": "markdown",
      "metadata": {
        "id": "-XYU--LQgVYy"
      },
      "source": [
        "Let's verify that the implementation is correct by running the cell below. `assert` will raise `AssertionError` if the statement is not true.  "
      ]
    },
    {
      "cell_type": "code",
      "execution_count": null,
      "metadata": {
        "editable": false,
        "id": "tNfjRDZRgVYz"
      },
      "outputs": [],
      "source": [
        "assert lower_cased == \" python strings are cool! \"\n",
        "assert stripped == \"Python strings are COOL!\"\n",
        "assert stripped_lower_cased == \"python strings are cool!\""
      ]
    },
    {
      "cell_type": "markdown",
      "metadata": {
        "id": "4c9AtlXSgVYz"
      },
      "source": [
        "# 2. Prettify ugly string\n",
        "Use `str` methods to convert `ugly` to wanted `pretty`."
      ]
    },
    {
      "cell_type": "code",
      "execution_count": 8,
      "metadata": {
        "editable": false,
        "id": "OqJdWeoFgVYz"
      },
      "outputs": [],
      "source": [
        "ugly = \" tiTle of MY new Book\\n\\n\""
      ]
    },
    {
      "cell_type": "code",
      "execution_count": 10,
      "metadata": {
        "id": "E9Pd6IxEgVYz",
        "colab": {
          "base_uri": "https://localhost:8080/",
          "height": 36
        },
        "outputId": "f9483047-cdee-4800-ffdc-1cd303d111da"
      },
      "outputs": [
        {
          "output_type": "execute_result",
          "data": {
            "text/plain": [
              "'Title Of My New Book'"
            ],
            "application/vnd.google.colaboratory.intrinsic+json": {
              "type": "string"
            }
          },
          "metadata": {},
          "execution_count": 10
        }
      ],
      "source": [
        "# Your implementation:\n",
        "pretty = ugly.title().strip()\n",
        "pretty"
      ]
    },
    {
      "cell_type": "markdown",
      "metadata": {
        "id": "LehlOdYHgVYz"
      },
      "source": [
        "Let's make sure that it does what we want. `assert` raises [`AssertionError`](https://docs.python.org/3/library/exceptions.html#AssertionError) if the statement is not `True`."
      ]
    },
    {
      "cell_type": "code",
      "execution_count": 11,
      "metadata": {
        "editable": false,
        "id": "3qwi-wdlgVY0",
        "colab": {
          "base_uri": "https://localhost:8080/"
        },
        "outputId": "8e5e95be-76bd-48d9-b6c5-25a110d4ca39"
      },
      "outputs": [
        {
          "output_type": "stream",
          "name": "stdout",
          "text": [
            "pretty: Title Of My New Book\n"
          ]
        }
      ],
      "source": [
        "print(f\"pretty: {pretty}\")\n",
        "assert pretty == \"Title Of My New Book\""
      ]
    },
    {
      "cell_type": "markdown",
      "metadata": {
        "id": "NlRwPy3mgVY0"
      },
      "source": [
        "# 3. Format string based on existing variables\n",
        "Create `sentence` by using `verb`, `language`, and `punctuation` and any other strings you may need."
      ]
    },
    {
      "cell_type": "code",
      "execution_count": 12,
      "metadata": {
        "editable": false,
        "id": "8SQCs_ojgVY0"
      },
      "outputs": [],
      "source": [
        "verb = \"is\"\n",
        "language = \"Python\"\n",
        "punctuation = \"!\""
      ]
    },
    {
      "cell_type": "code",
      "execution_count": 13,
      "metadata": {
        "id": "J7MWMh0AgVY0",
        "colab": {
          "base_uri": "https://localhost:8080/",
          "height": 36
        },
        "outputId": "03e89c61-b84d-484a-8a47-0ca0ae1a0ead"
      },
      "outputs": [
        {
          "output_type": "execute_result",
          "data": {
            "text/plain": [
              "'Learning Python is fun!'"
            ],
            "application/vnd.google.colaboratory.intrinsic+json": {
              "type": "string"
            }
          },
          "metadata": {},
          "execution_count": 13
        }
      ],
      "source": [
        "# Your implementation:\n",
        "sentence = f\"Learning {language} {verb} fun!\"\n",
        "sentence"
      ]
    },
    {
      "cell_type": "code",
      "execution_count": 14,
      "metadata": {
        "editable": false,
        "id": "Cs5bMz31gVY0",
        "colab": {
          "base_uri": "https://localhost:8080/"
        },
        "outputId": "8cd27218-9d7c-42d8-c341-c3641b4c196a"
      },
      "outputs": [
        {
          "output_type": "stream",
          "name": "stdout",
          "text": [
            "sentence: Learning Python is fun!\n"
          ]
        }
      ],
      "source": [
        "print(f\"sentence: {sentence}\")\n",
        "assert sentence == \"Learning Python is fun!\""
      ]
    }
  ],
  "metadata": {
    "kernelspec": {
      "display_name": "Python 3",
      "language": "python",
      "name": "python3"
    },
    "language_info": {
      "codemirror_mode": {
        "name": "ipython",
        "version": 3
      },
      "file_extension": ".py",
      "mimetype": "text/x-python",
      "name": "python",
      "nbconvert_exporter": "python",
      "pygments_lexer": "ipython3",
      "version": "3.5.4"
    },
    "colab": {
      "provenance": [],
      "include_colab_link": true
    }
  },
  "nbformat": 4,
  "nbformat_minor": 0
}