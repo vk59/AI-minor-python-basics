{
  "cells": [
    {
      "cell_type": "markdown",
      "metadata": {
        "id": "view-in-github",
        "colab_type": "text"
      },
      "source": [
        "<a href=\"https://colab.research.google.com/github/vk59/AI-minor-python-basics/blob/main/vk59_12_exceptions_exercise.ipynb\" target=\"_parent\"><img src=\"https://colab.research.google.com/assets/colab-badge.svg\" alt=\"Open In Colab\"/></a>"
      ]
    },
    {
      "cell_type": "markdown",
      "metadata": {
        "id": "CmiefIth2rRM"
      },
      "source": [
        "# 1. Dealing with exceptions\n",
        "Fill `____` parts of the implementation below. `sum_of_list` function takes a list as argument and calculates the sum of values in the list. If some element in the list can not be converted to a numeric value, it should be ignored from the sum."
      ]
    },
    {
      "cell_type": "code",
      "execution_count": 1,
      "metadata": {
        "id": "DizKWxAq2rRN"
      },
      "outputs": [],
      "source": [
        "def sum_of_list(values):\n",
        "    sum = 0\n",
        "    for val in values:\n",
        "        try:\n",
        "            numeric_val = float(val)\n",
        "        except Exception as e:\n",
        "            numeric_val = 0\n",
        "        sum += numeric_val\n",
        "    return sum"
      ]
    },
    {
      "cell_type": "code",
      "execution_count": 3,
      "metadata": {
        "editable": false,
        "id": "x4r8zP4t2rRO"
      },
      "outputs": [],
      "source": [
        "list1 = [1, 2, 3]\n",
        "list2 = [\"1\", 2.5, \"3.0\"]\n",
        "list3 = [\"\", \"1\"]\n",
        "list4 = []\n",
        "list5 = [\"John\", \"Doe\", \"was\", \"here\"]\n",
        "nasty_list = [KeyError(), [], dict()]\n",
        "\n",
        "assert sum_of_list(list1) == 6\n",
        "assert sum_of_list(list2) == 6.5\n",
        "assert sum_of_list(list3) == 1\n",
        "assert sum_of_list(list4) == 0\n",
        "assert sum_of_list(list5) == 0\n",
        "assert sum_of_list(nasty_list) == 0"
      ]
    },
    {
      "cell_type": "markdown",
      "metadata": {
        "id": "pIjwUzIH2rRO"
      },
      "source": [
        "# 2. Using custom exceptions\n",
        "Implement `verify_short_string` function which takes a single string as argument. If the length of the input string is more than ten characters, the function should raise `TooLongString` exception (note: you have to create `TooLongString` yourself). The function does not have to return anything.  "
      ]
    },
    {
      "cell_type": "code",
      "execution_count": 4,
      "metadata": {
        "id": "XXMXEmoX2rRO"
      },
      "outputs": [],
      "source": [
        "class TooLongString(Exception):\n",
        "  pass\n",
        "\n",
        "def verify_short_string(s):\n",
        "  if len(s) > 10:\n",
        "    raise TooLongString()"
      ]
    },
    {
      "cell_type": "code",
      "execution_count": 5,
      "metadata": {
        "editable": false,
        "id": "EJKPzJnl2rRO"
      },
      "outputs": [],
      "source": [
        "# These should not raise\n",
        "verify_short_string(\"short\")\n",
        "verify_short_string(\"10   chars\")\n",
        "\n",
        "# This should raise\n",
        "try:\n",
        "    verify_short_string(\"this is long\")\n",
        "except TooLongString as e:\n",
        "    # This is ok\n",
        "    pass\n",
        "else:\n",
        "    # This means that there was no exception\n",
        "    assert False"
      ]
    }
  ],
  "metadata": {
    "kernelspec": {
      "display_name": "Python 3 (ipykernel)",
      "language": "python",
      "name": "python3"
    },
    "language_info": {
      "codemirror_mode": {
        "name": "ipython",
        "version": 3
      },
      "file_extension": ".py",
      "mimetype": "text/x-python",
      "name": "python",
      "nbconvert_exporter": "python",
      "pygments_lexer": "ipython3",
      "version": "3.11.0"
    },
    "colab": {
      "provenance": [],
      "include_colab_link": true
    }
  },
  "nbformat": 4,
  "nbformat_minor": 0
}