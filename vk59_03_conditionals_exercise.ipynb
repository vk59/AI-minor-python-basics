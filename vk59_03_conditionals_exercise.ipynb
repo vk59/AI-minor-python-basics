{
  "cells": [
    {
      "cell_type": "markdown",
      "metadata": {
        "id": "view-in-github",
        "colab_type": "text"
      },
      "source": [
        "<a href=\"https://colab.research.google.com/github/vk59/AI-minor-python-basics/blob/main/vk59_03_conditionals_exercise.ipynb\" target=\"_parent\"><img src=\"https://colab.research.google.com/assets/colab-badge.svg\" alt=\"Open In Colab\"/></a>"
      ]
    },
    {
      "cell_type": "markdown",
      "metadata": {
        "id": "SaGOZsLnlKP0"
      },
      "source": [
        "# 1. `if-elif-else`\n",
        "Fill missing pieces (`____`) of the following code such that prints make sense."
      ]
    },
    {
      "cell_type": "code",
      "execution_count": 2,
      "metadata": {
        "editable": false,
        "id": "hQyBs0-PlKP4"
      },
      "outputs": [],
      "source": [
        "name = \"John Doe\""
      ]
    },
    {
      "cell_type": "code",
      "execution_count": 9,
      "metadata": {
        "id": "jR8k1eBPlKP5",
        "colab": {
          "base_uri": "https://localhost:8080/"
        },
        "outputId": "a7677b19-2759-40e9-85aa-dc7a56db5b9f"
      },
      "outputs": [
        {
          "output_type": "stream",
          "name": "stdout",
          "text": [
            "Name \"John Doe\" is 8, 9 or 10 chars long\n"
          ]
        }
      ],
      "source": [
        "size = len(name)\n",
        "if size > 20:\n",
        "    print(f'Name \"{name}\" is more than 20 chars long')\n",
        "    length_description = \"long\"\n",
        "elif size > 15:\n",
        "    print(f'Name \"{name}\" is more than 15 chars long')\n",
        "    length_description = \"semi long\"\n",
        "elif size > 10:\n",
        "    print(f'Name \"{name}\" is more than 10 chars long')\n",
        "    length_description = \"semi long\"\n",
        "elif size <= 10 and size >= 8:\n",
        "    print(f'Name \"{name}\" is 8, 9 or 10 chars long')\n",
        "    length_description = \"semi short\"\n",
        "else:\n",
        "    print(f'Name \"{name}\" is a short name')\n",
        "    length_description = \"short\""
      ]
    },
    {
      "cell_type": "code",
      "execution_count": 11,
      "metadata": {
        "editable": false,
        "id": "34eT1HSglKP6"
      },
      "outputs": [],
      "source": [
        "assert length_description == \"semi short\""
      ]
    }
  ],
  "metadata": {
    "kernelspec": {
      "display_name": "Python 3",
      "language": "python",
      "name": "python3"
    },
    "language_info": {
      "codemirror_mode": {
        "name": "ipython",
        "version": 3
      },
      "file_extension": ".py",
      "mimetype": "text/x-python",
      "name": "python",
      "nbconvert_exporter": "python",
      "pygments_lexer": "ipython3",
      "version": "3.5.4"
    },
    "colab": {
      "provenance": [],
      "include_colab_link": true
    }
  },
  "nbformat": 4,
  "nbformat_minor": 0
}